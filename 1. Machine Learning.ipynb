{
 "cells": [
  {
   "cell_type": "markdown",
   "id": "77cdfe07",
   "metadata": {},
   "source": [
    "# Data Science"
   ]
  },
  {
   "cell_type": "markdown",
   "id": "986532ad",
   "metadata": {},
   "source": [
    "It is process of extracting knowledge and insights from structure and unstructured data by using scientific methods.\n",
    "* Scientific Methods-\n",
    "  1. Machine Learning\n",
    "  2. Deep Learning\n",
    "  3. Natural Language Processing\n",
    "  4. Statistics\n",
    "  5. Data Visualization"
   ]
  },
  {
   "cell_type": "markdown",
   "id": "ea480cbb",
   "metadata": {},
   "source": [
    "# Data Science Project Steps:"
   ]
  },
  {
   "cell_type": "markdown",
   "id": "a9cab067",
   "metadata": {},
   "source": [
    "1. Problem Statement\n",
    "2. Data Gathering(JSON, CSV, Excel, PDF, Images, Videos, Text, etc)\n",
    "3. Exploratory Data Analysis(Pandas, Matplotlib, Seaborn) (60 % of main working)\n",
    "4. Feature Engineering (Scaling, Handling Outliers, Encoding, Log Transform, Binning)\n",
    "5. Feature Selection (Required Feature to train the model)\n",
    "6. Model Building (LR, Logistic Regression, DT, RF, etc) \n",
    "7. Model Evaluation (MSE, AMSE, Classification Report, Confusion matrix, etc)\n",
    "8. Model Deployment (AWS, GCP, Azure, Heroku)"
   ]
  },
  {
   "cell_type": "markdown",
   "id": "dd918cd7",
   "metadata": {},
   "source": [
    "# Machine Learning"
   ]
  },
  {
   "cell_type": "markdown",
   "id": "84bfd168",
   "metadata": {},
   "source": [
    "1. It is application of AI that provides systems(computers) the ability to learn without\n",
    "   explicitly programmed.\n",
    "2. Eg: Robotics,self Driving cars etc...\n",
    "\n",
    "3. The main motive of Machine Learning is, we don't need to programmed again and again for every problem."
   ]
  },
  {
   "cell_type": "markdown",
   "id": "35507b1e",
   "metadata": {},
   "source": [
    "# Real world machine Learning use cases"
   ]
  },
  {
   "cell_type": "markdown",
   "id": "302473ec",
   "metadata": {},
   "source": [
    "1. Face Recognition\n",
    "2. Speech Recognition\n",
    "3. Email Filtering\n",
    "4. Recommendation Systems\n",
    "6. Robotics\n",
    "7. Search Engines(Google, Yahoo)\n",
    "8. Social Media(FB, Twitter)\n",
    "9. Self Driving Cars\n",
    "10. Voice Assistants(Alexa, Siri, Google) (NLP >> ML)\n",
    "11. ChatBot (NLP)"
   ]
  },
  {
   "cell_type": "markdown",
   "id": "36651911",
   "metadata": {},
   "source": [
    "# Types of Machine Learning"
   ]
  },
  {
   "cell_type": "markdown",
   "id": "c8e105ce",
   "metadata": {},
   "source": [
    "1. Supervised Learning\n",
    "2. Unsupervised Learning\n",
    "3. ReinforceMent Learning"
   ]
  },
  {
   "cell_type": "markdown",
   "id": "114df704",
   "metadata": {},
   "source": [
    "## Variabeles in Machine Learning"
   ]
  },
  {
   "cell_type": "markdown",
   "id": "1d0d84e4",
   "metadata": {},
   "source": [
    "1. Input Variables/ Independent Variable\n",
    "2. Output Variable / Dependent Variable / Target Variable"
   ]
  },
  {
   "cell_type": "markdown",
   "id": "2d5db77f",
   "metadata": {},
   "source": [
    "# 1. Supervised Learning"
   ]
  },
  {
   "cell_type": "markdown",
   "id": "36ad8860",
   "metadata": {},
   "source": [
    "1. In the supervised Learning, Machine are trained by 'Labelled Data' and on the basis of the labelled data,\n",
    "   machine predict output.\n",
    "2. we know the Input Variable and Output Variable.\n",
    "3. We give set of inputs and corresponding Answers.\n",
    "4. It needs supervision to train the model.\n",
    "5. Main goal is to train the model so that it can be predict the output when it is given new data."
   ]
  },
  {
   "cell_type": "markdown",
   "id": "dfa819f9",
   "metadata": {},
   "source": [
    "### Types of Supervised Learning Problems"
   ]
  },
  {
   "cell_type": "raw",
   "id": "efb00a9b",
   "metadata": {},
   "source": [
    "1. Classification (Binary Numbers)(Yes/No, T/F, High/Med/Low)\n",
    "\n",
    "    1.1 Binary Classification (Email Filtering(Spam/ Not Spam))\n",
    "\n",
    "    1.2 Multiclass Classification\n",
    "    Iris-setosa (0)\n",
    "    Iris-versicolor(1)\n",
    "    Iris-virginica(2)\n",
    "\n",
    "    \n",
    "2. Regression (When Target Variable having Continues Values) \n",
    "\n",
    "Ex. Price\n",
    "    Length\n",
    "    Score"
   ]
  },
  {
   "cell_type": "markdown",
   "id": "20e517b6",
   "metadata": {},
   "source": [
    "# Applications of Supervised Learning Algorithms"
   ]
  },
  {
   "cell_type": "raw",
   "id": "eb1c7ecc",
   "metadata": {},
   "source": [
    "Classification:\n",
    "0 or 1\n",
    "Yes / No\n",
    "Spam / Not Spam\n",
    "Approved or Declined\n",
    "True / False\n",
    "Pass / Fail\n",
    "\n",
    "Image Based Classification:\n",
    "1. Handwritten Text classification\n",
    "2. Image Classification( Vehicles, Signal, Persons)\n",
    "3. Text Based Document Classification (PAN, AADHAR, DL, Voter, Unknown)"
   ]
  },
  {
   "cell_type": "markdown",
   "id": "11529295",
   "metadata": {},
   "source": [
    "# 2. Unsupervised Learning"
   ]
  },
  {
   "cell_type": "markdown",
   "id": "ff1a9f03",
   "metadata": {},
   "source": [
    "1. In Unsupervised Learning, machine are trained by 'Unlabelled Data' and allow to to act on that data without\n",
    "   any supervision.\n",
    "2. Unsupervised Learning cannot be directly applied to a regression or classification problem because unlike\n",
    "   supervised learning, we have a input data but no corresponding output data.\n",
    "3. Model finds hidden patterns in the data.\n",
    "4. There is no need to supervised to train the data.\n",
    "5. Main goal of the unsupervised learning is to find the hidden pattern and useful insights from the unknown\n",
    "   dataset. "
   ]
  },
  {
   "cell_type": "raw",
   "id": "f3fd4ced",
   "metadata": {},
   "source": [
    "Ex. \n",
    "1. Cricket\n",
    "\n",
    "2. Fruits\n",
    ">> dont know the fruit name\n",
    ">> Paramters (Colors, Taste, Size)\n",
    "Apple and Banana"
   ]
  },
  {
   "cell_type": "markdown",
   "id": "4b9777b9",
   "metadata": {},
   "source": [
    "# 3. Reinforcement Learning"
   ]
  },
  {
   "cell_type": "raw",
   "id": "6c96bc64",
   "metadata": {},
   "source": [
    "1. Uncertainty around both input as well as output variable.\n",
    "\n",
    "Ex.\n",
    "1. Temp Control System(AC)\n",
    "Low or High\n",
    "Based on Past Experience \n",
    "35 >> 28\n",
    "30 >> 28\n",
    "28 >> 28\n",
    "25 >> 22\n",
    "20 >> 22\n",
    "\n",
    "How Many people in room\n",
    "\n",
    "2. Kids\n",
    "Good thing >> Appriciate\n",
    "Bad Thing >> Punish them"
   ]
  },
  {
   "cell_type": "markdown",
   "id": "50061651",
   "metadata": {},
   "source": [
    "# Algorithms"
   ]
  },
  {
   "cell_type": "markdown",
   "id": "9f00fbdc",
   "metadata": {},
   "source": [
    "#### Supervised ML Algorithms: \n",
    "1. Linear Regression   ( Regression)\n",
    "2. Logistics Regression (Classification)\n",
    "3. Naive Bayes Classifier (Classification)\n",
    "4. Decision Tree  (Regression and Classification)\n",
    "5. Random Forest (Multiple DT) \n",
    "6. K-Nearest Neighbour(kNN)\n",
    "7. Support Vector Machine\n",
    "8. AdaBoost(Adaptive Boosting)\n",
    "9. XGBoost (Extreme Gradient Boosting)\n",
    "\n",
    "#### Unsupervised ML Algorithms:\n",
    "1. k-mean Clustering \n",
    "2. c-mean"
   ]
  },
  {
   "cell_type": "markdown",
   "id": "1546ee91",
   "metadata": {},
   "source": [
    "#### Deep Learning:\n",
    "1. ANN(Regression)\n",
    "2. CNN(Images)\n",
    "3. RNN(Text)."
   ]
  }
 ],
 "metadata": {
  "kernelspec": {
   "display_name": "Python 3 (ipykernel)",
   "language": "python",
   "name": "python3"
  },
  "language_info": {
   "codemirror_mode": {
    "name": "ipython",
    "version": 3
   },
   "file_extension": ".py",
   "mimetype": "text/x-python",
   "name": "python",
   "nbconvert_exporter": "python",
   "pygments_lexer": "ipython3",
   "version": "3.9.12"
  }
 },
 "nbformat": 4,
 "nbformat_minor": 5
}
